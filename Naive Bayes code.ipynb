{
 "cells": [
  {
   "cell_type": "code",
   "execution_count": 1,
   "id": "b61e9d4a",
   "metadata": {},
   "outputs": [
    {
     "name": "stderr",
     "output_type": "stream",
     "text": [
      "[nltk_data] Downloading package stopwords to /Users/leo/nltk_data...\n",
      "[nltk_data]   Unzipping corpora/stopwords.zip.\n"
     ]
    },
    {
     "data": {
      "text/plain": [
       "True"
      ]
     },
     "execution_count": 1,
     "metadata": {},
     "output_type": "execute_result"
    }
   ],
   "source": [
    "import numpy as np\n",
    "import pandas as pd\n",
    "import matplotlib.pyplot as plt\n",
    "from sklearn.feature_extraction.text import CountVectorizer\n",
    "from sklearn.naive_bayes import MultinomialNB\n",
    "from sklearn.model_selection import train_test_split\n",
    "from sklearn.metrics import accuracy_score, confusion_matrix, classification_report\n",
    "from sklearn.pipeline import make_pipeline\n",
    "import string\n",
    "import nltk\n",
    "from nltk.corpus import stopwords\n",
    "from nltk.stem import PorterStemmer\n",
    "\n",
    "# 下载NLTK数据\n",
    "nltk.download('stopwords')"
   ]
  },
  {
   "cell_type": "code",
   "execution_count": 2,
   "id": "8e32dab5",
   "metadata": {},
   "outputs": [
    {
     "name": "stdout",
     "output_type": "stream",
     "text": [
      "  label                                               text\n",
      "0   ham  Go until jurong point, crazy.. Available only ...\n",
      "1   ham                      Ok lar... Joking wif u oni...\n",
      "2  spam  Free entry in 2 a wkly comp to win FA Cup fina...\n",
      "3   ham  U dun say so early hor... U c already then say...\n",
      "4   ham  Nah I don't think he goes to usf, he lives aro...\n",
      "\n",
      "类别分布:\n",
      "ham     4825\n",
      "spam     747\n",
      "Name: label, dtype: int64\n"
     ]
    },
    {
     "data": {
      "image/png": "[encoded data removed]",
      "text/plain": [
       "<Figure size 432x288 with 1 Axes>"
      ]
     },
     "metadata": {
      "needs_background": "light"
     },
     "output_type": "display_data"
    }
   ],
   "source": [
    "# 加载数据集\n",
    "url = \"https://raw.githubusercontent.com/mohitgupta-omg/Kaggle-SMS-Spam-Collection-Dataset-/master/spam.csv\"\n",
    "data = pd.read_csv(url, encoding='latin-1')\n",
    "data = data[['v1', 'v2']]  # 只保留标签和文本列\n",
    "data.columns = ['label', 'text']  # 重命名列\n",
    "\n",
    "# 查看数据\n",
    "print(data.head())\n",
    "print(\"\\n类别分布:\")\n",
    "print(data['label'].value_counts())\n",
    "\n",
    "# 可视化类别分布\n",
    "data['label'].value_counts().plot(kind='bar', color=['blue', 'red'])\n",
    "plt.title(\"Spam vs Ham Distribution\")\n",
    "plt.xticks(rotation=0)\n",
    "plt.show()"
   ]
  },
  {
   "cell_type": "code",
   "execution_count": 3,
   "id": "e322f915",
   "metadata": {},
   "outputs": [
    {
     "name": "stdout",
     "output_type": "stream",
     "text": [
      "\n",
      "预处理后的文本示例:\n",
      "                                                text  \\\n",
      "0  Go until jurong point, crazy.. Available only ...   \n",
      "1                      Ok lar... Joking wif u oni...   \n",
      "2  Free entry in 2 a wkly comp to win FA Cup fina...   \n",
      "3  U dun say so early hor... U c already then say...   \n",
      "4  Nah I don't think he goes to usf, he lives aro...   \n",
      "\n",
      "                                      processed_text  \n",
      "0  go jurong point crazi avail bugi n great world...  \n",
      "1                              ok lar joke wif u oni  \n",
      "2  free entri 2 wkli comp win fa cup final tkt 21...  \n",
      "3                u dun say earli hor u c alreadi say  \n",
      "4          nah dont think goe usf live around though  \n"
     ]
    }
   ],
   "source": [
    "# 初始化stemmer和stopwords\n",
    "stemmer = PorterStemmer()\n",
    "stop_words = set(stopwords.words('english'))\n",
    "\n",
    "def preprocess_text(text):\n",
    "    # 移除标点符号\n",
    "    text = text.translate(str.maketrans('', '', string.punctuation))\n",
    "    \n",
    "    # 转换为小写\n",
    "    text = text.lower()\n",
    "    \n",
    "    # 分词\n",
    "    words = text.split()\n",
    "    \n",
    "    # 移除停用词并词干提取\n",
    "    words = [stemmer.stem(word) for word in words if word not in stop_words]\n",
    "    \n",
    "    return ' '.join(words)\n",
    "\n",
    "# 应用预处理\n",
    "data['processed_text'] = data['text'].apply(preprocess_text)\n",
    "\n",
    "# 查看预处理后的文本\n",
    "print(\"\\n预处理后的文本示例:\")\n",
    "print(data[['text', 'processed_text']].head())"
   ]
  },
  {
   "cell_type": "code",
   "execution_count": 4,
   "id": "f407d5c9",
   "metadata": {},
   "outputs": [
    {
     "name": "stdout",
     "output_type": "stream",
     "text": [
      "\n",
      "特征矩阵形状: (3900, 5000)\n",
      "示例特征:\n",
      "['008704050406' '0089mi' '0121' '0125698789' '02' '020603' '0207'\n",
      " '02070836089' '02072069400' '02073162414' '020903' '050703' '0578'\n",
      " '061104' '07046744435' '07090201529' '07090298926' '07099833605' '071104'\n",
      " '07123456789']\n"
     ]
    }
   ],
   "source": [
    "# 将标签转换为数值 (spam:1, ham:0)\n",
    "data['label_num'] = data['label'].map({'ham': 0, 'spam': 1})\n",
    "\n",
    "# 划分训练集和测试集\n",
    "X_train, X_test, y_train, y_test = train_test_split(\n",
    "    data['processed_text'], data['label_num'], test_size=0.3, random_state=42\n",
    ")\n",
    "\n",
    "# 使用词袋模型提取特征\n",
    "vectorizer = CountVectorizer(max_features=5000)  # 限制特征数量\n",
    "X_train_vec = vectorizer.fit_transform(X_train)\n",
    "X_test_vec = vectorizer.transform(X_test)\n",
    "\n",
    "# 查看特征矩阵\n",
    "print(\"\\n特征矩阵形状:\", X_train_vec.shape)\n",
    "print(\"示例特征:\")\n",
    "print(vectorizer.get_feature_names_out()[:20])  # 查看前20个特征词\n"
   ]
  },
  {
   "cell_type": "code",
   "execution_count": 5,
   "id": "ee44e135",
   "metadata": {},
   "outputs": [
    {
     "name": "stdout",
     "output_type": "stream",
     "text": [
      "\n",
      "模型准确率: 0.9827\n",
      "\n",
      "分类报告:\n",
      "              precision    recall  f1-score   support\n",
      "\n",
      "           0       0.99      0.99      0.99      1453\n",
      "           1       0.96      0.90      0.93       219\n",
      "\n",
      "    accuracy                           0.98      1672\n",
      "   macro avg       0.97      0.95      0.96      1672\n",
      "weighted avg       0.98      0.98      0.98      1672\n",
      "\n",
      "\n",
      "混淆矩阵:\n",
      "[[1445    8]\n",
      " [  21  198]]\n"
     ]
    },
    {
     "data": {
      "image/png": "[encoded data removed]",
      "text/plain": [
       "<Figure size 432x288 with 2 Axes>"
      ]
     },
     "metadata": {
      "needs_background": "light"
     },
     "output_type": "display_data"
    }
   ],
   "source": [
    "# 初始化并训练多项式朴素贝叶斯模型\n",
    "nb_classifier = MultinomialNB()\n",
    "nb_classifier.fit(X_train_vec, y_train)\n",
    "\n",
    "# 预测\n",
    "y_pred = nb_classifier.predict(X_test_vec)\n",
    "\n",
    "# 评估模型\n",
    "accuracy = accuracy_score(y_test, y_pred)\n",
    "print(f\"\\n模型准确率: {accuracy:.4f}\")\n",
    "\n",
    "# 分类报告\n",
    "print(\"\\n分类报告:\")\n",
    "print(classification_report(y_test, y_pred))\n",
    "\n",
    "# 混淆矩阵\n",
    "conf_matrix = confusion_matrix(y_test, y_pred)\n",
    "print(\"\\n混淆矩阵:\")\n",
    "print(conf_matrix)\n",
    "\n",
    "# 可视化混淆矩阵\n",
    "plt.figure(figsize=(6, 4))\n",
    "plt.imshow(conf_matrix, interpolation='nearest', cmap=plt.cm.Blues)\n",
    "plt.title('Confusion Matrix')\n",
    "plt.colorbar()\n",
    "tick_marks = [0, 1]\n",
    "plt.xticks(tick_marks, ['Ham', 'Spam'])\n",
    "plt.yticks(tick_marks, ['Ham', 'Spam'])\n",
    "plt.xlabel('Predicted Label')\n",
    "plt.ylabel('True Label')\n",
    "\n",
    "for i in range(2):\n",
    "    for j in range(2):\n",
    "        plt.text(j, i, str(conf_matrix[i, j]), ha='center', va='center', color='white' if conf_matrix[i, j] > conf_matrix.max()/2 else 'black')\n",
    "\n",
    "plt.tight_layout()\n",
    "plt.show()"
   ]
  },
  {
   "cell_type": "code",
   "execution_count": 6,
   "id": "1c93af95",
   "metadata": {},
   "outputs": [
    {
     "name": "stdout",
     "output_type": "stream",
     "text": [
      "\n",
      "管道模型准确率: 0.9826555023923444\n"
     ]
    }
   ],
   "source": [
    "# 创建一个完整的管道（预处理+特征提取+分类）\n",
    "pipeline = make_pipeline(\n",
    "    CountVectorizer(preprocessor=preprocess_text, max_features=5000),\n",
    "    MultinomialNB()\n",
    ")\n",
    "\n",
    "# 使用原始文本数据重新划分数据集\n",
    "X_train_raw, X_test_raw, y_train, y_test = train_test_split(\n",
    "    data['text'], data['label_num'], test_size=0.3, random_state=42\n",
    ")\n",
    "\n",
    "# 训练管道\n",
    "pipeline.fit(X_train_raw, y_train)\n",
    "\n",
    "# 评估\n",
    "y_pred_pipe = pipeline.predict(X_test_raw)\n",
    "print(\"\\n管道模型准确率:\", accuracy_score(y_test, y_pred_pipe))\n"
   ]
  },
  {
   "cell_type": "code",
   "execution_count": 7,
   "id": "1df3e7f1",
   "metadata": {},
   "outputs": [
    {
     "name": "stdout",
     "output_type": "stream",
     "text": [
      "\n",
      "邮件内容: Congratulations! You've won a $1000 Walmart gift card. Click here to claim your prize now!\n",
      "预测结果: 垃圾邮件\n",
      "概率 - 正常邮件: 0.0000, 垃圾邮件: 1.0000\n",
      "\n",
      "邮件内容: Hi John, just checking in to see if you're still on for lunch tomorrow at 12?\n",
      "预测结果: 正常邮件\n",
      "概率 - 正常邮件: 1.0000, 垃圾邮件: 0.0000\n",
      "\n",
      "邮件内容: URGENT! Your bank account has been compromised. Click this link to secure your account now!\n",
      "预测结果: 垃圾邮件\n",
      "概率 - 正常邮件: 0.0027, 垃圾邮件: 0.9973\n",
      "\n",
      "邮件内容: Meeting reminder: Project review at 3pm in conference room B. Please bring your reports.\n",
      "预测结果: 正常邮件\n",
      "概率 - 正常邮件: 0.9995, 垃圾邮件: 0.0005\n"
     ]
    }
   ],
   "source": [
    "# 定义测试函数\n",
    "def test_email(email_text):\n",
    "    proba = pipeline.predict_proba([email_text])[0]\n",
    "    prediction = pipeline.predict([email_text])[0]\n",
    "    \n",
    "    print(f\"\\n邮件内容: {email_text}\")\n",
    "    print(f\"预测结果: {'垃圾邮件' if prediction == 1 else '正常邮件'}\")\n",
    "    print(f\"概率 - 正常邮件: {proba[0]:.4f}, 垃圾邮件: {proba[1]:.4f}\")\n",
    "\n",
    "# 测试一些示例\n",
    "test_email(\"Congratulations! You've won a $1000 Walmart gift card. Click here to claim your prize now!\")\n",
    "test_email(\"Hi John, just checking in to see if you're still on for lunch tomorrow at 12?\")\n",
    "test_email(\"URGENT! Your bank account has been compromised. Click this link to secure your account now!\")\n",
    "test_email(\"Meeting reminder: Project review at 3pm in conference room B. Please bring your reports.\")"
   ]
  },
  {
   "cell_type": "code",
   "execution_count": 8,
   "id": "56666332",
   "metadata": {},
   "outputs": [
    {
     "name": "stdout",
     "output_type": "stream",
     "text": [
      "\n",
      "最具指示性的垃圾邮件词汇:\n",
      "          word  log_prob\n",
      "1255     claim  5.279541\n",
      "3054     prize  5.056398\n",
      "4272      tone  4.879941\n",
      "2005  guarante  4.447808\n",
      "381        500  4.333397\n",
      "178        150  4.238087\n",
      "214         18  4.204186\n",
      "131        100  4.169094\n",
      "198     150ppm  4.055766\n",
      "3322   rington  4.055766\n",
      "1758     entri  4.014944\n",
      "700      award  4.014944\n",
      "2958      poli  3.972384\n",
      "4463    urgent  3.927932\n",
      "4655    weekli  3.832622\n",
      "411       8007  3.781329\n",
      "270        250  3.781329\n",
      "382       5000  3.727262\n",
      "184       150p  3.727262\n",
      "132       1000  3.699091\n"
     ]
    },
    {
     "data": {
      "text/plain": [
       "<Figure size 720x432 with 0 Axes>"
      ]
     },
     "metadata": {},
     "output_type": "display_data"
    },
    {
     "data": {
      "image/png": "[encoded data removed]",
      "text/plain": [
       "<Figure size 432x288 with 1 Axes>"
      ]
     },
     "metadata": {
      "needs_background": "light"
     },
     "output_type": "display_data"
    }
   ],
   "source": [
    "# 获取特征重要性\n",
    "feature_names = pipeline.named_steps['countvectorizer'].get_feature_names_out()\n",
    "coefs = pipeline.named_steps['multinomialnb'].feature_log_prob_\n",
    "\n",
    "# 创建DataFrame显示最重要的垃圾邮件词汇\n",
    "spam_words = pd.DataFrame({\n",
    "    'word': feature_names,\n",
    "    'log_prob': coefs[1] - coefs[0]  # 垃圾邮件相对于正常邮件的对数概率差异\n",
    "}).sort_values('log_prob', ascending=False)\n",
    "\n",
    "print(\"\\n最具指示性的垃圾邮件词汇:\")\n",
    "print(spam_words.head(20))\n",
    "\n",
    "# 可视化top垃圾邮件词汇\n",
    "plt.figure(figsize=(10, 6))\n",
    "spam_words.head(20).plot.barh(x='word', y='log_prob', legend=False)\n",
    "plt.title('Top 20 Spam Indicators')\n",
    "plt.xlabel('Log Probability Difference (Spam vs Ham)')\n",
    "plt.tight_layout()\n",
    "plt.show()"
   ]
  },
  {
   "cell_type": "code",
   "execution_count": null,
   "id": "9c050a3b",
   "metadata": {},
   "outputs": [],
   "source": []
  }
 ],
 "metadata": {
  "kernelspec": {
   "display_name": "Python 3 (ipykernel)",
   "language": "python",
   "name": "python3"
  },
  "language_info": {
   "codemirror_mode": {
    "name": "ipython",
    "version": 3
   },
   "file_extension": ".py",
   "mimetype": "text/x-python",
   "name": "python",
   "nbconvert_exporter": "python",
   "pygments_lexer": "ipython3",
   "version": "3.9.12"
  }
 },
 "nbformat": 4,
 "nbformat_minor": 5
}
